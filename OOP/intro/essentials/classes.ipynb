{
 "cells": [
  {
   "cell_type": "markdown",
   "id": "c4294a92",
   "metadata": {},
   "source": [
    "Объект - контейнер, состоящий из\n",
    "- данных и состояния (атрибуты)\n",
    "- поведения (методы)"
   ]
  },
  {
   "cell_type": "code",
   "execution_count": 1,
   "id": "0e54d278",
   "metadata": {},
   "outputs": [],
   "source": [
    "class Car:\n",
    "    pass"
   ]
  },
  {
   "cell_type": "code",
   "execution_count": 2,
   "id": "248c6916",
   "metadata": {},
   "outputs": [],
   "source": [
    "a = Car()  # () - вызов конструктора класса"
   ]
  },
  {
   "cell_type": "code",
   "execution_count": 3,
   "id": "63fc7f82",
   "metadata": {},
   "outputs": [
    {
     "data": {
      "text/plain": [
       "__main__.Car"
      ]
     },
     "execution_count": 3,
     "metadata": {},
     "output_type": "execute_result"
    }
   ],
   "source": [
    "type(a)"
   ]
  },
  {
   "cell_type": "code",
   "execution_count": 5,
   "id": "34dfba81",
   "metadata": {},
   "outputs": [
    {
     "data": {
      "text/plain": [
       "True"
      ]
     },
     "execution_count": 5,
     "metadata": {},
     "output_type": "execute_result"
    }
   ],
   "source": [
    "isinstance(a, Car)"
   ]
  },
  {
   "cell_type": "code",
   "execution_count": 6,
   "id": "79ba74bc",
   "metadata": {},
   "outputs": [],
   "source": [
    "b = Car()"
   ]
  },
  {
   "cell_type": "code",
   "execution_count": 8,
   "id": "01b27188",
   "metadata": {},
   "outputs": [
    {
     "name": "stdout",
     "output_type": "stream",
     "text": [
      "0x1d365664160\n",
      "0x1d365acc490\n"
     ]
    }
   ],
   "source": [
    "print(hex(id(a)))\n",
    "print(hex(id(b)))"
   ]
  },
  {
   "cell_type": "code",
   "execution_count": 10,
   "id": "6833702f",
   "metadata": {},
   "outputs": [],
   "source": [
    "class Car:\n",
    "    model = 'BMW'\n",
    "    engine = 1.6"
   ]
  },
  {
   "cell_type": "code",
   "execution_count": 11,
   "id": "1ff98ed7",
   "metadata": {},
   "outputs": [],
   "source": [
    "a = Car()"
   ]
  },
  {
   "cell_type": "code",
   "execution_count": 12,
   "id": "857d33f7",
   "metadata": {},
   "outputs": [
    {
     "data": {
      "text/plain": [
       "'BMW'"
      ]
     },
     "execution_count": 12,
     "metadata": {},
     "output_type": "execute_result"
    }
   ],
   "source": [
    "a.model"
   ]
  },
  {
   "cell_type": "markdown",
   "id": "b4601e8d",
   "metadata": {},
   "source": [
    "- Любое значение в Python является объектом\n",
    "- с помощью isinstance() можно проверить принадлежность объекта в определенному классу\n",
    "- При помощи type можно узнать тип объекта (к какому классу принадлежит т.е. инстанией какого класса является этот объект)"
   ]
  }
 ],
 "metadata": {
  "kernelspec": {
   "display_name": "Python 3 (ipykernel)",
   "language": "python",
   "name": "python3"
  },
  "language_info": {
   "codemirror_mode": {
    "name": "ipython",
    "version": 3
   },
   "file_extension": ".py",
   "mimetype": "text/x-python",
   "name": "python",
   "nbconvert_exporter": "python",
   "pygments_lexer": "ipython3",
   "version": "3.9.13"
  }
 },
 "nbformat": 4,
 "nbformat_minor": 5
}
