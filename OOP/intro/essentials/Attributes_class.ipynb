{
 "cells": [
  {
   "cell_type": "markdown",
   "id": "bfa06cbe",
   "metadata": {},
   "source": [
    "# Атрибуты класса"
   ]
  },
  {
   "cell_type": "code",
   "execution_count": 1,
   "id": "3fa508c9",
   "metadata": {},
   "outputs": [],
   "source": [
    "class Person:\n",
    "    #  Атрибуты класса\n",
    "    name = 'Ivan'\n",
    "    age = 30"
   ]
  },
  {
   "cell_type": "code",
   "execution_count": 2,
   "id": "fe8ea53a",
   "metadata": {},
   "outputs": [],
   "source": [
    "a = Person()"
   ]
  },
  {
   "cell_type": "code",
   "execution_count": 3,
   "id": "0ed5f7be",
   "metadata": {},
   "outputs": [
    {
     "data": {
      "text/plain": [
       "'Ivan'"
      ]
     },
     "execution_count": 3,
     "metadata": {},
     "output_type": "execute_result"
    }
   ],
   "source": [
    "a.name  # обратиться к атрибуту класса"
   ]
  },
  {
   "cell_type": "code",
   "execution_count": 4,
   "id": "188075a9",
   "metadata": {},
   "outputs": [
    {
     "ename": "AttributeError",
     "evalue": "'Person' object has no attribute 'x'",
     "output_type": "error",
     "traceback": [
      "\u001b[1;31m---------------------------------------------------------------------------\u001b[0m",
      "\u001b[1;31mAttributeError\u001b[0m                            Traceback (most recent call last)",
      "\u001b[1;32m~\\AppData\\Local\\Temp\\ipykernel_3500\\3638169541.py\u001b[0m in \u001b[0;36m<module>\u001b[1;34m\u001b[0m\n\u001b[1;32m----> 1\u001b[1;33m \u001b[0ma\u001b[0m\u001b[1;33m.\u001b[0m\u001b[0mx\u001b[0m\u001b[1;33m\u001b[0m\u001b[1;33m\u001b[0m\u001b[0m\n\u001b[0m",
      "\u001b[1;31mAttributeError\u001b[0m: 'Person' object has no attribute 'x'"
     ]
    }
   ],
   "source": [
    "a.x"
   ]
  },
  {
   "cell_type": "markdown",
   "id": "d0ddcdff",
   "metadata": {},
   "source": [
    "! нельзя обратиться к атрибуту, которого нет"
   ]
  },
  {
   "cell_type": "code",
   "execution_count": 5,
   "id": "d2911745",
   "metadata": {
    "scrolled": true
   },
   "outputs": [
    {
     "data": {
      "text/plain": [
       "mappingproxy({'__module__': '__main__',\n",
       "              'name': 'Ivan',\n",
       "              'age': 30,\n",
       "              '__dict__': <attribute '__dict__' of 'Person' objects>,\n",
       "              '__weakref__': <attribute '__weakref__' of 'Person' objects>,\n",
       "              '__doc__': None})"
      ]
     },
     "execution_count": 5,
     "metadata": {},
     "output_type": "execute_result"
    }
   ],
   "source": [
    "Person.__dict__  # посмотреть атрибуты класса"
   ]
  },
  {
   "cell_type": "code",
   "execution_count": 6,
   "id": "6e877c5d",
   "metadata": {},
   "outputs": [
    {
     "data": {
      "text/plain": [
       "'Ivan'"
      ]
     },
     "execution_count": 6,
     "metadata": {},
     "output_type": "execute_result"
    }
   ],
   "source": [
    "getattr(Person, 'name', 'Default_if_no_attribute')  # Обратиться к атрибуту"
   ]
  },
  {
   "cell_type": "code",
   "execution_count": 7,
   "id": "24c90e90",
   "metadata": {},
   "outputs": [
    {
     "data": {
      "text/plain": [
       "'Default_if_no_attribute'"
      ]
     },
     "execution_count": 7,
     "metadata": {},
     "output_type": "execute_result"
    }
   ],
   "source": [
    "getattr(Person, 'x', 'Default_if_no_attribute')"
   ]
  },
  {
   "cell_type": "code",
   "execution_count": 8,
   "id": "525be72b",
   "metadata": {},
   "outputs": [],
   "source": [
    "Person.name = 'Misha'"
   ]
  },
  {
   "cell_type": "code",
   "execution_count": 9,
   "id": "d843a351",
   "metadata": {},
   "outputs": [
    {
     "data": {
      "text/plain": [
       "'Misha'"
      ]
     },
     "execution_count": 9,
     "metadata": {},
     "output_type": "execute_result"
    }
   ],
   "source": [
    "a.name"
   ]
  },
  {
   "cell_type": "code",
   "execution_count": 10,
   "id": "0a02d8d0",
   "metadata": {},
   "outputs": [],
   "source": [
    "Person.x = 100"
   ]
  },
  {
   "cell_type": "code",
   "execution_count": 11,
   "id": "74ed5c39",
   "metadata": {},
   "outputs": [
    {
     "data": {
      "text/plain": [
       "mappingproxy({'__module__': '__main__',\n",
       "              'name': 'Misha',\n",
       "              'age': 30,\n",
       "              '__dict__': <attribute '__dict__' of 'Person' objects>,\n",
       "              '__weakref__': <attribute '__weakref__' of 'Person' objects>,\n",
       "              '__doc__': None,\n",
       "              'x': 100})"
      ]
     },
     "execution_count": 11,
     "metadata": {},
     "output_type": "execute_result"
    }
   ],
   "source": [
    "Person.__dict__"
   ]
  },
  {
   "cell_type": "markdown",
   "id": "4a06faaa",
   "metadata": {},
   "source": [
    "Появился атрибут в словаре"
   ]
  },
  {
   "cell_type": "code",
   "execution_count": 12,
   "id": "12be9479",
   "metadata": {},
   "outputs": [],
   "source": [
    "setattr(Person, 'x', 200)"
   ]
  },
  {
   "cell_type": "code",
   "execution_count": 13,
   "id": "a87b31f6",
   "metadata": {},
   "outputs": [
    {
     "data": {
      "text/plain": [
       "200"
      ]
     },
     "execution_count": 13,
     "metadata": {},
     "output_type": "execute_result"
    }
   ],
   "source": [
    "Person.x"
   ]
  },
  {
   "cell_type": "code",
   "execution_count": 14,
   "id": "60ba8b78",
   "metadata": {},
   "outputs": [],
   "source": [
    "del Person.x # удалить атрибут"
   ]
  },
  {
   "cell_type": "code",
   "execution_count": 15,
   "id": "2205f8e7",
   "metadata": {},
   "outputs": [
    {
     "data": {
      "text/plain": [
       "mappingproxy({'__module__': '__main__',\n",
       "              'name': 'Misha',\n",
       "              'age': 30,\n",
       "              '__dict__': <attribute '__dict__' of 'Person' objects>,\n",
       "              '__weakref__': <attribute '__weakref__' of 'Person' objects>,\n",
       "              '__doc__': None})"
      ]
     },
     "execution_count": 15,
     "metadata": {},
     "output_type": "execute_result"
    }
   ],
   "source": [
    "Person.__dict__"
   ]
  },
  {
   "cell_type": "code",
   "execution_count": 21,
   "id": "7338486b",
   "metadata": {},
   "outputs": [],
   "source": [
    "Person.y = 300"
   ]
  },
  {
   "cell_type": "code",
   "execution_count": 22,
   "id": "e9369111",
   "metadata": {},
   "outputs": [
    {
     "data": {
      "text/plain": [
       "300"
      ]
     },
     "execution_count": 22,
     "metadata": {},
     "output_type": "execute_result"
    }
   ],
   "source": [
    "Person.y"
   ]
  },
  {
   "cell_type": "code",
   "execution_count": 23,
   "id": "db3a9a95",
   "metadata": {},
   "outputs": [],
   "source": [
    "delattr(Person, 'y')  # Удалить атрибут"
   ]
  },
  {
   "cell_type": "code",
   "execution_count": 24,
   "id": "d1a09a37",
   "metadata": {},
   "outputs": [
    {
     "ename": "AttributeError",
     "evalue": "type object 'Person' has no attribute 'y'",
     "output_type": "error",
     "traceback": [
      "\u001b[1;31m---------------------------------------------------------------------------\u001b[0m",
      "\u001b[1;31mAttributeError\u001b[0m                            Traceback (most recent call last)",
      "\u001b[1;32m~\\AppData\\Local\\Temp\\ipykernel_3500\\848959203.py\u001b[0m in \u001b[0;36m<module>\u001b[1;34m\u001b[0m\n\u001b[1;32m----> 1\u001b[1;33m \u001b[0mPerson\u001b[0m\u001b[1;33m.\u001b[0m\u001b[0my\u001b[0m\u001b[1;33m\u001b[0m\u001b[1;33m\u001b[0m\u001b[0m\n\u001b[0m",
      "\u001b[1;31mAttributeError\u001b[0m: type object 'Person' has no attribute 'y'"
     ]
    }
   ],
   "source": [
    "Person.y"
   ]
  },
  {
   "cell_type": "code",
   "execution_count": 25,
   "id": "f8179ebf",
   "metadata": {},
   "outputs": [],
   "source": [
    "class Person:  # Можно рассматривать как способ создания объекта, его характеристик и методов\n",
    "    name = 'Ivan'\n",
    "    age = 30\n",
    "    \n",
    "a = Person()"
   ]
  },
  {
   "cell_type": "code",
   "execution_count": 26,
   "id": "2679f13c",
   "metadata": {},
   "outputs": [
    {
     "data": {
      "text/plain": [
       "'Ivan'"
      ]
     },
     "execution_count": 26,
     "metadata": {},
     "output_type": "execute_result"
    }
   ],
   "source": [
    "a.name"
   ]
  },
  {
   "cell_type": "code",
   "execution_count": 27,
   "id": "0b7d0ab6",
   "metadata": {},
   "outputs": [],
   "source": [
    "Person.z = 100"
   ]
  },
  {
   "cell_type": "code",
   "execution_count": 28,
   "id": "274ceeac",
   "metadata": {},
   "outputs": [
    {
     "data": {
      "text/plain": [
       "100"
      ]
     },
     "execution_count": 28,
     "metadata": {},
     "output_type": "execute_result"
    }
   ],
   "source": [
    "a.z"
   ]
  },
  {
   "cell_type": "markdown",
   "id": "0785c174",
   "metadata": {},
   "source": [
    "Добавление атрибута к классу автоматически добавляет атрибут в экземпляры класса"
   ]
  },
  {
   "cell_type": "markdown",
   "id": "1fb9f2ba",
   "metadata": {},
   "source": [
    "изменение атрибутов экземпляра класса изменяет только атрибуты этого экземпляра класса. Изменение **НЕ каснется** других экземпляров данного класса. "
   ]
  },
  {
   "cell_type": "markdown",
   "id": "4848aec7",
   "metadata": {},
   "source": [
    "Для того, чтобы обратиться к атрибутам класса можно:\n",
    "- getattr(cls, 'attr')\n",
    "- cls.attr"
   ]
  },
  {
   "cell_type": "markdown",
   "id": "b3d477a6",
   "metadata": {},
   "source": [
    "Для того, чтобы установить атрибуту класса новое значение:\n",
    "- setattr(cls, 'attr', value)\n",
    "- cls.attr = value"
   ]
  },
  {
   "cell_type": "markdown",
   "id": "66857f33",
   "metadata": {},
   "source": [
    "Если обратиться к несуществующему атрибуту произойдёт ошибка AttributeError"
   ]
  }
 ],
 "metadata": {
  "kernelspec": {
   "display_name": "Python 3 (ipykernel)",
   "language": "python",
   "name": "python3"
  },
  "language_info": {
   "codemirror_mode": {
    "name": "ipython",
    "version": 3
   },
   "file_extension": ".py",
   "mimetype": "text/x-python",
   "name": "python",
   "nbconvert_exporter": "python",
   "pygments_lexer": "ipython3",
   "version": "3.9.13"
  }
 },
 "nbformat": 4,
 "nbformat_minor": 5
}
