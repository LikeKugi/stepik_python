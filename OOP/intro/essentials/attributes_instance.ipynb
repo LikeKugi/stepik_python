{
 "cells": [
  {
   "cell_type": "code",
   "execution_count": 1,
   "id": "e04d189e",
   "metadata": {},
   "outputs": [],
   "source": [
    "class Car:\n",
    "    model = 'BMW'\n",
    "    engine = 1.6"
   ]
  },
  {
   "cell_type": "markdown",
   "id": "24d1a001",
   "metadata": {},
   "source": [
    "результат вызова класса - экземпляр класса"
   ]
  },
  {
   "cell_type": "code",
   "execution_count": 3,
   "id": "265a322d",
   "metadata": {},
   "outputs": [],
   "source": [
    "a1 = Car()"
   ]
  },
  {
   "cell_type": "code",
   "execution_count": 4,
   "id": "b9be9f9b",
   "metadata": {},
   "outputs": [],
   "source": [
    "a2 = Car()"
   ]
  },
  {
   "cell_type": "code",
   "execution_count": 5,
   "id": "6a5d1d14",
   "metadata": {},
   "outputs": [
    {
     "data": {
      "text/plain": [
       "'BMW'"
      ]
     },
     "execution_count": 5,
     "metadata": {},
     "output_type": "execute_result"
    }
   ],
   "source": [
    "a1.model"
   ]
  },
  {
   "cell_type": "code",
   "execution_count": 6,
   "id": "22c07f76",
   "metadata": {},
   "outputs": [
    {
     "data": {
      "text/plain": [
       "1.6"
      ]
     },
     "execution_count": 6,
     "metadata": {},
     "output_type": "execute_result"
    }
   ],
   "source": [
    "a2.engine"
   ]
  },
  {
   "cell_type": "code",
   "execution_count": 7,
   "id": "ae8324e0",
   "metadata": {},
   "outputs": [
    {
     "data": {
      "text/plain": [
       "{}"
      ]
     },
     "execution_count": 7,
     "metadata": {},
     "output_type": "execute_result"
    }
   ],
   "source": [
    "a1.__dict__"
   ]
  },
  {
   "cell_type": "code",
   "execution_count": 8,
   "id": "5b685487",
   "metadata": {},
   "outputs": [
    {
     "data": {
      "text/plain": [
       "4"
      ]
     },
     "execution_count": 8,
     "metadata": {},
     "output_type": "execute_result"
    }
   ],
   "source": [
    "a1.seat = 4\n",
    "a1.seat"
   ]
  },
  {
   "cell_type": "code",
   "execution_count": 9,
   "id": "fadc89f0",
   "metadata": {},
   "outputs": [
    {
     "data": {
      "text/plain": [
       "{'seat': 4}"
      ]
     },
     "execution_count": 9,
     "metadata": {},
     "output_type": "execute_result"
    }
   ],
   "source": [
    "a1.__dict__"
   ]
  },
  {
   "cell_type": "markdown",
   "id": "c9417973",
   "metadata": {},
   "source": [
    "добавление атрибута коснулось только a1"
   ]
  },
  {
   "cell_type": "code",
   "execution_count": 10,
   "id": "babf415e",
   "metadata": {},
   "outputs": [
    {
     "data": {
      "text/plain": [
       "{}"
      ]
     },
     "execution_count": 10,
     "metadata": {},
     "output_type": "execute_result"
    }
   ],
   "source": [
    "a2.__dict__"
   ]
  },
  {
   "cell_type": "code",
   "execution_count": 11,
   "id": "5019239a",
   "metadata": {},
   "outputs": [],
   "source": [
    "a1.model = 'Lada'"
   ]
  },
  {
   "cell_type": "code",
   "execution_count": 12,
   "id": "b6ee93a1",
   "metadata": {},
   "outputs": [
    {
     "data": {
      "text/plain": [
       "{'seat': 4, 'model': 'Lada'}"
      ]
     },
     "execution_count": 12,
     "metadata": {},
     "output_type": "execute_result"
    }
   ],
   "source": [
    "a1.__dict__"
   ]
  },
  {
   "cell_type": "code",
   "execution_count": 13,
   "id": "7c586058",
   "metadata": {},
   "outputs": [
    {
     "data": {
      "text/plain": [
       "mappingproxy({'__module__': '__main__',\n",
       "              'model': 'BMW',\n",
       "              'engine': 1.6,\n",
       "              '__dict__': <attribute '__dict__' of 'Car' objects>,\n",
       "              '__weakref__': <attribute '__weakref__' of 'Car' objects>,\n",
       "              '__doc__': None})"
      ]
     },
     "execution_count": 13,
     "metadata": {},
     "output_type": "execute_result"
    }
   ],
   "source": [
    "Car.__dict__"
   ]
  },
  {
   "cell_type": "code",
   "execution_count": null,
   "id": "826260f8",
   "metadata": {},
   "outputs": [],
   "source": [
    " "
   ]
  }
 ],
 "metadata": {
  "kernelspec": {
   "display_name": "Python 3 (ipykernel)",
   "language": "python",
   "name": "python3"
  },
  "language_info": {
   "codemirror_mode": {
    "name": "ipython",
    "version": 3
   },
   "file_extension": ".py",
   "mimetype": "text/x-python",
   "name": "python",
   "nbconvert_exporter": "python",
   "pygments_lexer": "ipython3",
   "version": "3.9.13"
  }
 },
 "nbformat": 4,
 "nbformat_minor": 5
}
